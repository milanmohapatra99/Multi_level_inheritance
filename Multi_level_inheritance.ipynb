{
 "cells": [
  {
   "cell_type": "code",
   "execution_count": 14,
   "id": "a79334a1",
   "metadata": {},
   "outputs": [
    {
     "name": "stdout",
     "output_type": "stream",
     "text": [
      "I am Breathing...\n",
      "I am a Human so I am Breathing...\n",
      "BMW\n",
      "I am a Human so I am Breathing...\n",
      "Fiver\n",
      "India\n"
     ]
    }
   ],
   "source": [
    "class Person:\n",
    "    country = \"India\"\n",
    "    def takeBreath(self):\n",
    "        print(\"I am Breathing...\")\n",
    "class Employee(Person):\n",
    "    company = \"BMW\"\n",
    "    \n",
    "    def getSalary(self):\n",
    "        print(f\"Salary is {self.salary}\")\n",
    "    def takeBreath(self):\n",
    "        print(\"I am a Human so I am Breathing...\")\n",
    "class Programmer(Employee):\n",
    "    company = \"Fiver\"\n",
    "    def getSalary(self):\n",
    "        print(f\"You Have To Work Hard!!!!\")\n",
    "p = Person()\n",
    "p.takeBreath()\n",
    "e = Employee()\n",
    "e.takeBreath()\n",
    "print(e.company)\n",
    "pr = Programmer()\n",
    "pr.takeBreath()\n",
    "print(pr.company)\n",
    "print(pr.country)\n",
    "\n",
    "        "
   ]
  },
  {
   "cell_type": "code",
   "execution_count": null,
   "id": "dc771f08",
   "metadata": {},
   "outputs": [],
   "source": []
  }
 ],
 "metadata": {
  "kernelspec": {
   "display_name": "Python 3 (ipykernel)",
   "language": "python",
   "name": "python3"
  },
  "language_info": {
   "codemirror_mode": {
    "name": "ipython",
    "version": 3
   },
   "file_extension": ".py",
   "mimetype": "text/x-python",
   "name": "python",
   "nbconvert_exporter": "python",
   "pygments_lexer": "ipython3",
   "version": "3.9.7"
  }
 },
 "nbformat": 4,
 "nbformat_minor": 5
}
